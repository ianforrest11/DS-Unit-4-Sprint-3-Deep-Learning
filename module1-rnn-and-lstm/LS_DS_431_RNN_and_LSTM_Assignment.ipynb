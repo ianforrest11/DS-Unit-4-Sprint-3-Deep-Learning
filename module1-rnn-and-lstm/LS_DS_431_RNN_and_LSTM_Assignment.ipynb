{
 "cells": [
  {
   "cell_type": "markdown",
   "metadata": {},
   "source": [
    "<img align=\"left\" src=\"https://lever-client-logos.s3.amazonaws.com/864372b1-534c-480e-acd5-9711f850815c-1524247202159.png\" width=200>\n",
    "<br></br>\n",
    "<br></br>\n",
    "\n",
    "## *Data Science Unit 4 Sprint 3 Assignment 1*\n",
    "\n",
    "# Recurrent Neural Networks and Long Short Term Memory (LSTM)\n",
    "\n",
    "![Monkey at a typewriter](https://upload.wikimedia.org/wikipedia/commons/thumb/3/3c/Chimpanzee_seated_at_typewriter.jpg/603px-Chimpanzee_seated_at_typewriter.jpg)\n",
    "\n",
    "It is said that [infinite monkeys typing for an infinite amount of time](https://en.wikipedia.org/wiki/Infinite_monkey_theorem) will eventually type, among other things, the complete works of Wiliam Shakespeare. Let's see if we can get there a bit faster, with the power of Recurrent Neural Networks and LSTM.\n",
    "\n",
    "This text file contains the complete works of Shakespeare: https://www.gutenberg.org/files/100/100-0.txt\n",
    "\n",
    "Use it as training data for an RNN - you can keep it simple and train character level, and that is suggested as an initial approach.\n",
    "\n",
    "Then, use that trained RNN to generate Shakespearean-ish text. Your goal - a function that can take, as an argument, the size of text (e.g. number of characters or lines) to generate, and returns generated text of that size.\n",
    "\n",
    "Note - Shakespeare wrote an awful lot. It's OK, especially initially, to sample/use smaller data and parameters, so you can have a tighter feedback loop when you're trying to get things running. Then, once you've got a proof of concept - start pushing it more!"
   ]
  },
  {
   "cell_type": "code",
   "execution_count": 1,
   "metadata": {
    "colab": {},
    "colab_type": "code",
    "id": "Ltj1je1fp5rO"
   },
   "outputs": [
    {
     "name": "stderr",
     "output_type": "stream",
     "text": [
      "/Users/ianforrest/anaconda3/envs/nn/lib/python3.7/site-packages/tensorflow/python/framework/dtypes.py:516: FutureWarning: Passing (type, 1) or '1type' as a synonym of type is deprecated; in a future version of numpy, it will be understood as (type, (1,)) / '(1,)type'.\n",
      "  _np_qint8 = np.dtype([(\"qint8\", np.int8, 1)])\n",
      "/Users/ianforrest/anaconda3/envs/nn/lib/python3.7/site-packages/tensorflow/python/framework/dtypes.py:517: FutureWarning: Passing (type, 1) or '1type' as a synonym of type is deprecated; in a future version of numpy, it will be understood as (type, (1,)) / '(1,)type'.\n",
      "  _np_quint8 = np.dtype([(\"quint8\", np.uint8, 1)])\n",
      "/Users/ianforrest/anaconda3/envs/nn/lib/python3.7/site-packages/tensorflow/python/framework/dtypes.py:518: FutureWarning: Passing (type, 1) or '1type' as a synonym of type is deprecated; in a future version of numpy, it will be understood as (type, (1,)) / '(1,)type'.\n",
      "  _np_qint16 = np.dtype([(\"qint16\", np.int16, 1)])\n",
      "/Users/ianforrest/anaconda3/envs/nn/lib/python3.7/site-packages/tensorflow/python/framework/dtypes.py:519: FutureWarning: Passing (type, 1) or '1type' as a synonym of type is deprecated; in a future version of numpy, it will be understood as (type, (1,)) / '(1,)type'.\n",
      "  _np_quint16 = np.dtype([(\"quint16\", np.uint16, 1)])\n",
      "/Users/ianforrest/anaconda3/envs/nn/lib/python3.7/site-packages/tensorflow/python/framework/dtypes.py:520: FutureWarning: Passing (type, 1) or '1type' as a synonym of type is deprecated; in a future version of numpy, it will be understood as (type, (1,)) / '(1,)type'.\n",
      "  _np_qint32 = np.dtype([(\"qint32\", np.int32, 1)])\n",
      "/Users/ianforrest/anaconda3/envs/nn/lib/python3.7/site-packages/tensorflow/python/framework/dtypes.py:525: FutureWarning: Passing (type, 1) or '1type' as a synonym of type is deprecated; in a future version of numpy, it will be understood as (type, (1,)) / '(1,)type'.\n",
      "  np_resource = np.dtype([(\"resource\", np.ubyte, 1)])\n",
      "/Users/ianforrest/anaconda3/envs/nn/lib/python3.7/site-packages/tensorboard/compat/tensorflow_stub/dtypes.py:541: FutureWarning: Passing (type, 1) or '1type' as a synonym of type is deprecated; in a future version of numpy, it will be understood as (type, (1,)) / '(1,)type'.\n",
      "  _np_qint8 = np.dtype([(\"qint8\", np.int8, 1)])\n",
      "/Users/ianforrest/anaconda3/envs/nn/lib/python3.7/site-packages/tensorboard/compat/tensorflow_stub/dtypes.py:542: FutureWarning: Passing (type, 1) or '1type' as a synonym of type is deprecated; in a future version of numpy, it will be understood as (type, (1,)) / '(1,)type'.\n",
      "  _np_quint8 = np.dtype([(\"quint8\", np.uint8, 1)])\n",
      "/Users/ianforrest/anaconda3/envs/nn/lib/python3.7/site-packages/tensorboard/compat/tensorflow_stub/dtypes.py:543: FutureWarning: Passing (type, 1) or '1type' as a synonym of type is deprecated; in a future version of numpy, it will be understood as (type, (1,)) / '(1,)type'.\n",
      "  _np_qint16 = np.dtype([(\"qint16\", np.int16, 1)])\n",
      "/Users/ianforrest/anaconda3/envs/nn/lib/python3.7/site-packages/tensorboard/compat/tensorflow_stub/dtypes.py:544: FutureWarning: Passing (type, 1) or '1type' as a synonym of type is deprecated; in a future version of numpy, it will be understood as (type, (1,)) / '(1,)type'.\n",
      "  _np_quint16 = np.dtype([(\"quint16\", np.uint16, 1)])\n",
      "/Users/ianforrest/anaconda3/envs/nn/lib/python3.7/site-packages/tensorboard/compat/tensorflow_stub/dtypes.py:545: FutureWarning: Passing (type, 1) or '1type' as a synonym of type is deprecated; in a future version of numpy, it will be understood as (type, (1,)) / '(1,)type'.\n",
      "  _np_qint32 = np.dtype([(\"qint32\", np.int32, 1)])\n",
      "/Users/ianforrest/anaconda3/envs/nn/lib/python3.7/site-packages/tensorboard/compat/tensorflow_stub/dtypes.py:550: FutureWarning: Passing (type, 1) or '1type' as a synonym of type is deprecated; in a future version of numpy, it will be understood as (type, (1,)) / '(1,)type'.\n",
      "  np_resource = np.dtype([(\"resource\", np.ubyte, 1)])\n"
     ]
    }
   ],
   "source": [
    "#imports\n",
    "from __future__ import absolute_import, division, print_function, unicode_literals\n",
    "\n",
    "import tensorflow as tf\n",
    "\n",
    "from tensorflow.keras.layers import Dense, Dropout, LSTM\n",
    "from tensorflow.keras import Sequential\n",
    "from tensorflow.keras.utils import to_categorical\n",
    "\n",
    "import numpy as np\n",
    "import matplotlib.pyplot as plt\n",
    "import requests\n",
    "import os\n",
    "import textwrap"
   ]
  },
  {
   "cell_type": "code",
   "execution_count": 2,
   "metadata": {},
   "outputs": [],
   "source": [
    "# create url variable establish conntection to path, save to text variable\n",
    "url = 'https://www.gutenberg.org/files/100/100-0.txt'\n",
    "\n",
    "path = tf.keras.utils.get_file('shakespeare.txt', url)\n",
    "\n",
    "text = open(path, 'rb').read().decode(encoding='utf-8-sig')"
   ]
  },
  {
   "cell_type": "code",
   "execution_count": 6,
   "metadata": {},
   "outputs": [
    {
     "data": {
      "text/plain": [
       "('\\r', '\\n')"
      ]
     },
     "execution_count": 6,
     "metadata": {},
     "output_type": "execute_result"
    }
   ],
   "source": [
    "text[0], text[1]"
   ]
  },
  {
   "cell_type": "code",
   "execution_count": 7,
   "metadata": {},
   "outputs": [],
   "source": [
    "# drop characters '\\r' & '\\n'\n",
    "text = text.replace('\\r', '')\n",
    "text = text.replace('\\n', '')"
   ]
  },
  {
   "cell_type": "code",
   "execution_count": 8,
   "metadata": {},
   "outputs": [
    {
     "data": {
      "text/plain": [
       "('P', 'r')"
      ]
     },
     "execution_count": 8,
     "metadata": {},
     "output_type": "execute_result"
    }
   ],
   "source": [
    "text[0], text[1]"
   ]
  },
  {
   "cell_type": "code",
   "execution_count": 9,
   "metadata": {},
   "outputs": [],
   "source": [
    "# join text together\n",
    "text = \" \".join(text.split())"
   ]
  },
  {
   "cell_type": "code",
   "execution_count": 10,
   "metadata": {},
   "outputs": [
    {
     "data": {
      "text/plain": [
       "5202719"
      ]
     },
     "execution_count": 10,
     "metadata": {},
     "output_type": "execute_result"
    }
   ],
   "source": [
    "len(text)"
   ]
  },
  {
   "cell_type": "code",
   "execution_count": 11,
   "metadata": {},
   "outputs": [],
   "source": [
    "# create list of characters, variables for number of characters and size of text\n",
    "chars = list(set(text)) # split and remove duplicate characters. convert to list.\n",
    "\n",
    "num_chars = len(chars) # the number of unique characters\n",
    "text_data_size = len(text)"
   ]
  },
  {
   "cell_type": "code",
   "execution_count": 12,
   "metadata": {},
   "outputs": [
    {
     "name": "stdout",
     "output_type": "stream",
     "text": [
      "{'/': 0, 'œ': 1, 'N': 2, 'Y': 3, 'A': 4, 'q': 5, '&': 6, 'R': 7, 'â': 8, 'u': 9, 'æ': 10, 'M': 11, 'V': 12, 'à': 13, ')': 14, 'ê': 15, '0': 16, '*': 17, '6': 18, 'n': 19, 'O': 20, 'f': 21, 'h': 22, 'F': 23, '\\\\': 24, 'm': 25, 'C': 26, '—': 27, 'é': 28, '2': 29, \"'\": 30, '`': 31, 'K': 32, 'x': 33, 'v': 34, '”': 35, '%': 36, '|': 37, '5': 38, '9': 39, ':': 40, '‘': 41, '!': 42, 'Z': 43, 'P': 44, 'B': 45, 'e': 46, 'y': 47, 'T': 48, '.': 49, 'î': 50, '#': 51, 'p': 52, '_': 53, '\"': 54, 'd': 55, 'k': 56, '(': 57, '8': 58, 'G': 59, ',': 60, '$': 61, '[': 62, 's': 63, 'l': 64, 'b': 65, 'X': 66, '3': 67, '’': 68, 'z': 69, '7': 70, '?': 71, 'i': 72, 'L': 73, 'W': 74, 'D': 75, 'E': 76, 'I': 77, 'o': 78, 'j': 79, '1': 80, 't': 81, 'S': 82, 'g': 83, 'H': 84, 'r': 85, '4': 86, ']': 87, '@': 88, 'a': 89, 'É': 90, 'U': 91, 'c': 92, 'J': 93, ';': 94, 'w': 95, '“': 96, 'è': 97, 'ç': 98, 'Æ': 99, 'Q': 100, ' ': 101, '-': 102, '}': 103}\n",
      "----------------------------------------------------\n",
      "{0: '/', 1: 'œ', 2: 'N', 3: 'Y', 4: 'A', 5: 'q', 6: '&', 7: 'R', 8: 'â', 9: 'u', 10: 'æ', 11: 'M', 12: 'V', 13: 'à', 14: ')', 15: 'ê', 16: '0', 17: '*', 18: '6', 19: 'n', 20: 'O', 21: 'f', 22: 'h', 23: 'F', 24: '\\\\', 25: 'm', 26: 'C', 27: '—', 28: 'é', 29: '2', 30: \"'\", 31: '`', 32: 'K', 33: 'x', 34: 'v', 35: '”', 36: '%', 37: '|', 38: '5', 39: '9', 40: ':', 41: '‘', 42: '!', 43: 'Z', 44: 'P', 45: 'B', 46: 'e', 47: 'y', 48: 'T', 49: '.', 50: 'î', 51: '#', 52: 'p', 53: '_', 54: '\"', 55: 'd', 56: 'k', 57: '(', 58: '8', 59: 'G', 60: ',', 61: '$', 62: '[', 63: 's', 64: 'l', 65: 'b', 66: 'X', 67: '3', 68: '’', 69: 'z', 70: '7', 71: '?', 72: 'i', 73: 'L', 74: 'W', 75: 'D', 76: 'E', 77: 'I', 78: 'o', 79: 'j', 80: '1', 81: 't', 82: 'S', 83: 'g', 84: 'H', 85: 'r', 86: '4', 87: ']', 88: '@', 89: 'a', 90: 'É', 91: 'U', 92: 'c', 93: 'J', 94: ';', 95: 'w', 96: '“', 97: 'è', 98: 'ç', 99: 'Æ', 100: 'Q', 101: ' ', 102: '-', 103: '}'}\n",
      "----------------------------------------------------\n",
      "----------------------------------------------------\n",
      "data length :  5202719\n"
     ]
    }
   ],
   "source": [
    "# one hot encode\n",
    "char_to_int = dict((c, i) for i, c in enumerate(chars)) # \"enumerate\" retruns index and value. Convert it to dictionary\n",
    "int_to_char = dict((i, c) for i, c in enumerate(chars))\n",
    "print(char_to_int)\n",
    "print(\"----------------------------------------------------\")\n",
    "print(int_to_char)\n",
    "print(\"----------------------------------------------------\")\n",
    "# integer encode input data\n",
    "integer_encoded = [char_to_int[i] for i in text] # \"integer_encoded\" is a list which has a sequence converted from an original data to integers.\n",
    "#print(integer_encoded)\n",
    "print(\"----------------------------------------------------\")\n",
    "print(\"data length : \", len(integer_encoded))"
   ]
  },
  {
   "cell_type": "code",
   "execution_count": 21,
   "metadata": {},
   "outputs": [],
   "source": [
    "\n",
    "text_size = len(text)\n",
    "vocab = sorted(set(text))\n",
    "small_text_size = 100000\n",
    "\n",
    "# create dictionary to translate characters to int and vice versa\n",
    "char2idx = {u:i for i, u in enumerate(vocab)}\n",
    "idx2char = {i:u for i, u in enumerate(vocab)}#np.array(vocab)\n",
    "\n",
    "text_as_int = np.array([char2idx[c] for c in text])\n",
    "\n",
    "seq_length = 100\n",
    "# examples_per_epoch = len(text)//seq_length\n",
    "\n",
    "X_text = []\n",
    "y_text = []\n",
    "\n",
    "for i in range(0, small_text_size - seq_length, 1):\n",
    "\tin_seq = text[i:i + seq_length]\n",
    "\tout_char = text[i + seq_length]\n",
    "\tX_text.append([char2idx[char] for char in in_seq])\n",
    "\ty_text.append(char2idx[out_char])\n",
    "    \n",
    "samples = len(X_text)"
   ]
  },
  {
   "cell_type": "code",
   "execution_count": 22,
   "metadata": {},
   "outputs": [],
   "source": [
    "X = np.reshape(X_text, (samples, seq_length, 1))\n",
    "# normalize\n",
    "X = X / float(len(vocab))\n",
    "# one hot encode the output variable\n",
    "y = to_categorical(y_text)"
   ]
  },
  {
   "cell_type": "code",
   "execution_count": 23,
   "metadata": {},
   "outputs": [
    {
     "name": "stdout",
     "output_type": "stream",
     "text": [
      "WARNING:tensorflow:From /Users/ianforrest/anaconda3/envs/nn/lib/python3.7/site-packages/tensorflow/python/ops/init_ops.py:1251: calling VarianceScaling.__init__ (from tensorflow.python.ops.init_ops) with dtype is deprecated and will be removed in a future version.\n",
      "Instructions for updating:\n",
      "Call initializer instance with the dtype argument instead of passing it to the constructor\n"
     ]
    }
   ],
   "source": [
    "model = Sequential()\n",
    "model.add(LSTM(256, input_shape=(X.shape[1], X.shape[2]), return_sequences=True))\n",
    "model.add(Dropout(0.2))\n",
    "model.add(LSTM(256))\n",
    "model.add(Dropout(0.2))\n",
    "model.add(Dense(y.shape[1], activation='softmax'))"
   ]
  },
  {
   "cell_type": "code",
   "execution_count": 33,
   "metadata": {},
   "outputs": [],
   "source": [
    "\n",
    "model.compile(loss='categorical_crossentropy', optimizer='adam')\n",
    "# model.compile(optimizer='adam', loss=loss)\n",
    "# Directory where the checkpoints will be saved\n",
    "checkpoint_dir = './training_checkpoints'\n",
    "# Name of the checkpoint files\n",
    "checkpoint_prefix = os.path.join(checkpoint_dir, \"ckpt_{epoch}\")\n",
    "\n",
    "checkpoint_callback=tf.keras.callbacks.ModelCheckpoint(\n",
    "    filepath=checkpoint_prefix,\n",
    "    save_weights_only=True)\n",
    "\n",
    "EPOCHS = 5\n",
    "BATCH_SIZE = 1024"
   ]
  },
  {
   "cell_type": "code",
   "execution_count": 34,
   "metadata": {},
   "outputs": [
    {
     "name": "stdout",
     "output_type": "stream",
     "text": [
      "Epoch 1/5\n",
      "99900/99900 [==============================] - 896s 9ms/sample - loss: 3.0334\n",
      "Epoch 2/5\n",
      "99900/99900 [==============================] - 1235s 12ms/sample - loss: 2.8866\n",
      "Epoch 3/5\n",
      "99900/99900 [==============================] - 1002s 10ms/sample - loss: 2.8429\n",
      "Epoch 4/5\n",
      "99900/99900 [==============================] - 1006s 10ms/sample - loss: 2.8141\n",
      "Epoch 5/5\n",
      "99900/99900 [==============================] - 1045s 10ms/sample - loss: 2.7893\n"
     ]
    }
   ],
   "source": [
    "history = model.fit(X, y, batch_size=BATCH_SIZE, epochs=EPOCHS, callbacks=[checkpoint_callback])"
   ]
  },
  {
   "cell_type": "code",
   "execution_count": 35,
   "metadata": {},
   "outputs": [
    {
     "data": {
      "image/png": "[encoded data removed]",
      "text/plain": [
       "<Figure size 432x288 with 1 Axes>"
      ]
     },
     "metadata": {
      "needs_background": "light"
     },
     "output_type": "display_data"
    }
   ],
   "source": [
    "\n",
    "plt.plot(history.history['loss'])\n",
    "plt.title('Model loss')\n",
    "plt.ylabel('Loss')\n",
    "plt.xlabel('Epoch')\n",
    "plt.legend(['Train'], loc='upper left')\n",
    "plt.show()"
   ]
  },
  {
   "cell_type": "code",
   "execution_count": 36,
   "metadata": {},
   "outputs": [
    {
     "name": "stdout",
     "output_type": "stream",
     "text": [
      "Seed: \n",
      " hame,For since each hand hath put on nature’s power,Fairing the foul with art’s false borrowed face,\n",
      "\n",
      "Generated Text:\n",
      "\n",
      "hame,For since each hand hath put on nature’s power,Fairing the foul with art’s\n",
      "false borrowed face,th the the the the the the the the the the the the the the\n",
      "the the the the the the the the the the the the the the the the the the the the\n",
      "the the the the the the the the the the the the the the the the the the the the\n",
      "the the the the the the the the the the the the the the the the the the the the\n",
      "the the the the the the the the the the the the the the the the the the the the\n",
      "the the the the the the the the the the the the the the the the the the the the\n",
      "the the the the the the the the the the t\n"
     ]
    }
   ],
   "source": [
    "start = np.random.randint(0, len(X_text)-1)\n",
    "vocab_len = len(vocab)\n",
    "pattern = X_text[start]\n",
    "\n",
    "print(f\"Seed: \\n {''.join([idx2char[value] for value in pattern])}\")\n",
    "out = [idx2char[value] for value in pattern]\n",
    "\n",
    "# generate characters\n",
    "for i in range(500):\n",
    "    x = np.reshape(pattern, (1, len(pattern), 1))\n",
    "    x = x / float(vocab_len)\n",
    "    prediction = model.predict(x, verbose=0)\n",
    "    index = np.argmax(prediction)\n",
    "    result = idx2char[index]\n",
    "    in_seq = [idx2char[value] for value in pattern]\n",
    "    out.append(result)\n",
    "    pattern.append(index)\n",
    "    pattern = pattern[1:len(pattern)]\n",
    "\n",
    "print(\"\\nGenerated Text:\\n\")\n",
    "print(textwrap.fill(''.join(out), 80))"
   ]
  },
  {
   "cell_type": "code",
   "execution_count": null,
   "metadata": {},
   "outputs": [],
   "source": []
  },
  {
   "cell_type": "code",
   "execution_count": null,
   "metadata": {},
   "outputs": [],
   "source": []
  },
  {
   "cell_type": "code",
   "execution_count": null,
   "metadata": {},
   "outputs": [],
   "source": []
  },
  {
   "cell_type": "markdown",
   "metadata": {
    "colab_type": "text",
    "id": "zE4a4O7Bp5x1"
   },
   "source": [
    "# Resources and Stretch Goals"
   ]
  },
  {
   "cell_type": "markdown",
   "metadata": {
    "colab_type": "text",
    "id": "uT3UV3gap9H6"
   },
   "source": [
    "## Stretch goals:\n",
    "- Refine the training and generation of text to be able to ask for different genres/styles of Shakespearean text (e.g. plays versus sonnets)\n",
    "- Train a classification model that takes text and returns which work of Shakespeare it is most likely to be from\n",
    "- Make it more performant! Many possible routes here - lean on Keras, optimize the code, and/or use more resources (AWS, etc.)\n",
    "- Revisit the news example from class, and improve it - use categories or tags to refine the model/generation, or train a news classifier\n",
    "- Run on bigger, better data\n",
    "\n",
    "## Resources:\n",
    "- [The Unreasonable Effectiveness of Recurrent Neural Networks](https://karpathy.github.io/2015/05/21/rnn-effectiveness/) - a seminal writeup demonstrating a simple but effective character-level NLP RNN\n",
    "- [Simple NumPy implementation of RNN](https://github.com/JY-Yoon/RNN-Implementation-using-NumPy/blob/master/RNN%20Implementation%20using%20NumPy.ipynb) - Python 3 version of the code from \"Unreasonable Effectiveness\"\n",
    "- [TensorFlow RNN Tutorial](https://github.com/tensorflow/models/tree/master/tutorials/rnn) - code for training a RNN on the Penn Tree Bank language dataset\n",
    "- [4 part tutorial on RNN](http://www.wildml.com/2015/09/recurrent-neural-networks-tutorial-part-1-introduction-to-rnns/) - relates RNN to the vanishing gradient problem, and provides example implementation\n",
    "- [RNN training tips and tricks](https://github.com/karpathy/char-rnn#tips-and-tricks) - some rules of thumb for parameterizing and training your RNN"
   ]
  }
 ],
 "metadata": {
  "kernelspec": {
   "display_name": "Python [conda env:nn] *",
   "language": "python",
   "name": "conda-env-nn-py"
  },
  "language_info": {
   "codemirror_mode": {
    "name": "ipython",
    "version": 3
   },
   "file_extension": ".py",
   "mimetype": "text/x-python",
   "name": "python",
   "nbconvert_exporter": "python",
   "pygments_lexer": "ipython3",
   "version": "3.7.3"
  }
 },
 "nbformat": 4,
 "nbformat_minor": 2
}
